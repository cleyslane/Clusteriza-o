{
  "nbformat": 4,
  "nbformat_minor": 0,
  "metadata": {
    "colab": {
      "name": "Trabalho Prático 2.ipynb",
      "provenance": [],
      "collapsed_sections": [],
      "toc_visible": true,
      "include_colab_link": true
    },
    "kernelspec": {
      "name": "python3",
      "display_name": "Python 3"
    }
  },
  "cells": [
    {
      "cell_type": "markdown",
      "metadata": {
        "id": "view-in-github",
        "colab_type": "text"
      },
      "source": [
        "<a href=\"https://colab.research.google.com/github/cleyslane/Clusterizacao/blob/master/Trabalho_Pr%C3%A1tico_2.ipynb\" target=\"_parent\"><img src=\"https://colab.research.google.com/assets/colab-badge.svg\" alt=\"Open In Colab\"/></a>"
      ]
    },
    {
      "cell_type": "code",
      "metadata": {
        "id": "OI5oFphh5wG5"
      },
      "source": [
        "# Imports necessários \n",
        "\n",
        "import pandas as pd \n",
        "from sklearn import preprocessing\n",
        "from scipy.spatial import distance_matrix\n",
        "import seaborn as sns\n",
        "from sklearn.cluster import KMeans\n",
        "from sklearn.cluster import DBSCAN\n",
        "import scipy.cluster.hierarchy as shc\n",
        "import matplotlib.pyplot as plt\n",
        "from sklearn.cluster import AgglomerativeClustering\n",
        "import plotly.graph_objects as go\n",
        "from scipy.spatial.distance import pdist, squareform\n",
        "from sklearn import metrics"
      ],
      "execution_count": null,
      "outputs": []
    },
    {
      "cell_type": "markdown",
      "metadata": {
        "id": "0WoarvW8ww_1"
      },
      "source": [
        "## DataSet"
      ]
    },
    {
      "cell_type": "code",
      "metadata": {
        "id": "_vk8iXlf6M8u"
      },
      "source": [
        "# Carregando a base de dados \n",
        "dataset_ocorrencias = pd.read_csv(\"ocorrencias.csv\")\n",
        "dataset_vitimas = pd.read_csv(\"vitimas.csv\")"
      ],
      "execution_count": null,
      "outputs": []
    },
    {
      "cell_type": "code",
      "metadata": {
        "colab": {
          "base_uri": "https://localhost:8080/",
          "height": 204
        },
        "id": "0L3UmLSXcMmJ",
        "outputId": "3e2d5252-0f9b-4dac-c079-3b64b2aca8ad"
      },
      "source": [
        "dataset_ocorrencias.head()"
      ],
      "execution_count": null,
      "outputs": [
        {
          "output_type": "execute_result",
          "data": {
            "text/html": [
              "<div>\n",
              "<style scoped>\n",
              "    .dataframe tbody tr th:only-of-type {\n",
              "        vertical-align: middle;\n",
              "    }\n",
              "\n",
              "    .dataframe tbody tr th {\n",
              "        vertical-align: top;\n",
              "    }\n",
              "\n",
              "    .dataframe thead th {\n",
              "        text-align: right;\n",
              "    }\n",
              "</style>\n",
              "<table border=\"1\" class=\"dataframe\">\n",
              "  <thead>\n",
              "    <tr style=\"text-align: right;\">\n",
              "      <th></th>\n",
              "      <th>UF</th>\n",
              "      <th>Tipo Crime</th>\n",
              "      <th>Ano</th>\n",
              "      <th>Mês</th>\n",
              "      <th>Ocorrências</th>\n",
              "    </tr>\n",
              "  </thead>\n",
              "  <tbody>\n",
              "    <tr>\n",
              "      <th>0</th>\n",
              "      <td>Acre</td>\n",
              "      <td>Estupro</td>\n",
              "      <td>2015</td>\n",
              "      <td>janeiro</td>\n",
              "      <td>6</td>\n",
              "    </tr>\n",
              "    <tr>\n",
              "      <th>1</th>\n",
              "      <td>Acre</td>\n",
              "      <td>Furto de veículo</td>\n",
              "      <td>2015</td>\n",
              "      <td>janeiro</td>\n",
              "      <td>0</td>\n",
              "    </tr>\n",
              "    <tr>\n",
              "      <th>2</th>\n",
              "      <td>Acre</td>\n",
              "      <td>Homicídio doloso</td>\n",
              "      <td>2015</td>\n",
              "      <td>janeiro</td>\n",
              "      <td>13</td>\n",
              "    </tr>\n",
              "    <tr>\n",
              "      <th>3</th>\n",
              "      <td>Acre</td>\n",
              "      <td>Lesão corporal seguida de morte</td>\n",
              "      <td>2015</td>\n",
              "      <td>janeiro</td>\n",
              "      <td>0</td>\n",
              "    </tr>\n",
              "    <tr>\n",
              "      <th>4</th>\n",
              "      <td>Acre</td>\n",
              "      <td>Roubo a instituição financeira</td>\n",
              "      <td>2015</td>\n",
              "      <td>janeiro</td>\n",
              "      <td>0</td>\n",
              "    </tr>\n",
              "  </tbody>\n",
              "</table>\n",
              "</div>"
            ],
            "text/plain": [
              "     UF                       Tipo Crime   Ano      Mês  Ocorrências\n",
              "0  Acre                          Estupro  2015  janeiro            6\n",
              "1  Acre                 Furto de veículo  2015  janeiro            0\n",
              "2  Acre                 Homicídio doloso  2015  janeiro           13\n",
              "3  Acre  Lesão corporal seguida de morte  2015  janeiro            0\n",
              "4  Acre   Roubo a instituição financeira  2015  janeiro            0"
            ]
          },
          "metadata": {
            "tags": []
          },
          "execution_count": 3
        }
      ]
    },
    {
      "cell_type": "code",
      "metadata": {
        "colab": {
          "base_uri": "https://localhost:8080/",
          "height": 204
        },
        "id": "8kxEmYkCcQQn",
        "outputId": "bb70cc14-542b-4667-8acf-a356584fd955"
      },
      "source": [
        "dataset_vitimas.head()"
      ],
      "execution_count": null,
      "outputs": [
        {
          "output_type": "execute_result",
          "data": {
            "text/html": [
              "<div>\n",
              "<style scoped>\n",
              "    .dataframe tbody tr th:only-of-type {\n",
              "        vertical-align: middle;\n",
              "    }\n",
              "\n",
              "    .dataframe tbody tr th {\n",
              "        vertical-align: top;\n",
              "    }\n",
              "\n",
              "    .dataframe thead th {\n",
              "        text-align: right;\n",
              "    }\n",
              "</style>\n",
              "<table border=\"1\" class=\"dataframe\">\n",
              "  <thead>\n",
              "    <tr style=\"text-align: right;\">\n",
              "      <th></th>\n",
              "      <th>UF</th>\n",
              "      <th>Tipo Crime</th>\n",
              "      <th>Ano</th>\n",
              "      <th>Mês</th>\n",
              "      <th>Vítimas</th>\n",
              "    </tr>\n",
              "  </thead>\n",
              "  <tbody>\n",
              "    <tr>\n",
              "      <th>0</th>\n",
              "      <td>Acre</td>\n",
              "      <td>Homicídio doloso</td>\n",
              "      <td>2015</td>\n",
              "      <td>janeiro</td>\n",
              "      <td>13</td>\n",
              "    </tr>\n",
              "    <tr>\n",
              "      <th>1</th>\n",
              "      <td>Acre</td>\n",
              "      <td>Homicídio doloso</td>\n",
              "      <td>2015</td>\n",
              "      <td>fevereiro</td>\n",
              "      <td>10</td>\n",
              "    </tr>\n",
              "    <tr>\n",
              "      <th>2</th>\n",
              "      <td>Acre</td>\n",
              "      <td>Homicídio doloso</td>\n",
              "      <td>2015</td>\n",
              "      <td>março</td>\n",
              "      <td>16</td>\n",
              "    </tr>\n",
              "    <tr>\n",
              "      <th>3</th>\n",
              "      <td>Acre</td>\n",
              "      <td>Homicídio doloso</td>\n",
              "      <td>2015</td>\n",
              "      <td>abril</td>\n",
              "      <td>22</td>\n",
              "    </tr>\n",
              "    <tr>\n",
              "      <th>4</th>\n",
              "      <td>Acre</td>\n",
              "      <td>Homicídio doloso</td>\n",
              "      <td>2015</td>\n",
              "      <td>maio</td>\n",
              "      <td>15</td>\n",
              "    </tr>\n",
              "  </tbody>\n",
              "</table>\n",
              "</div>"
            ],
            "text/plain": [
              "     UF        Tipo Crime   Ano        Mês  Vítimas\n",
              "0  Acre  Homicídio doloso  2015    janeiro       13\n",
              "1  Acre  Homicídio doloso  2015  fevereiro       10\n",
              "2  Acre  Homicídio doloso  2015      março       16\n",
              "3  Acre  Homicídio doloso  2015      abril       22\n",
              "4  Acre  Homicídio doloso  2015       maio       15"
            ]
          },
          "metadata": {
            "tags": []
          },
          "execution_count": 5
        }
      ]
    },
    {
      "cell_type": "markdown",
      "metadata": {
        "id": "lfEpv9ZwquSJ"
      },
      "source": [
        "## Pré-Processamento\n",
        "Neste trabalho, serão analisados os tipos de crime que deixam vítimas. A análise será feita com os dados do ano de 2020."
      ]
    },
    {
      "cell_type": "code",
      "metadata": {
        "id": "blwO_MBe1R_1"
      },
      "source": [
        "dataset_ocorrencias = dataset_ocorrencias[dataset_ocorrencias['Ano'] == 2020]\n",
        "dataset_vitimas = dataset_vitimas[dataset_vitimas['Ano'] == 2020]\n",
        "\n",
        "dataset_ocorrencias = dataset_ocorrencias.drop('Ano', axis=1)\n",
        "dataset_vitimas = dataset_vitimas.drop('Ano', axis=1)"
      ],
      "execution_count": null,
      "outputs": []
    },
    {
      "cell_type": "code",
      "metadata": {
        "colab": {
          "base_uri": "https://localhost:8080/",
          "height": 204
        },
        "id": "tMd044__3wzo",
        "outputId": "600a9ab8-fee5-450d-d2aa-11780ffaff27"
      },
      "source": [
        "dataset_ocorrencias.head()"
      ],
      "execution_count": null,
      "outputs": [
        {
          "output_type": "execute_result",
          "data": {
            "text/html": [
              "<div>\n",
              "<style scoped>\n",
              "    .dataframe tbody tr th:only-of-type {\n",
              "        vertical-align: middle;\n",
              "    }\n",
              "\n",
              "    .dataframe tbody tr th {\n",
              "        vertical-align: top;\n",
              "    }\n",
              "\n",
              "    .dataframe thead th {\n",
              "        text-align: right;\n",
              "    }\n",
              "</style>\n",
              "<table border=\"1\" class=\"dataframe\">\n",
              "  <thead>\n",
              "    <tr style=\"text-align: right;\">\n",
              "      <th></th>\n",
              "      <th>UF</th>\n",
              "      <th>Tipo Crime</th>\n",
              "      <th>Mês</th>\n",
              "      <th>Ocorrências</th>\n",
              "    </tr>\n",
              "  </thead>\n",
              "  <tbody>\n",
              "    <tr>\n",
              "      <th>14457</th>\n",
              "      <td>Acre</td>\n",
              "      <td>Estupro</td>\n",
              "      <td>janeiro</td>\n",
              "      <td>18</td>\n",
              "    </tr>\n",
              "    <tr>\n",
              "      <th>14458</th>\n",
              "      <td>Acre</td>\n",
              "      <td>Furto de veículo</td>\n",
              "      <td>janeiro</td>\n",
              "      <td>23</td>\n",
              "    </tr>\n",
              "    <tr>\n",
              "      <th>14459</th>\n",
              "      <td>Acre</td>\n",
              "      <td>Homicídio doloso</td>\n",
              "      <td>janeiro</td>\n",
              "      <td>46</td>\n",
              "    </tr>\n",
              "    <tr>\n",
              "      <th>14460</th>\n",
              "      <td>Acre</td>\n",
              "      <td>Lesão corporal seguida de morte</td>\n",
              "      <td>janeiro</td>\n",
              "      <td>0</td>\n",
              "    </tr>\n",
              "    <tr>\n",
              "      <th>14461</th>\n",
              "      <td>Acre</td>\n",
              "      <td>Roubo a instituição financeira</td>\n",
              "      <td>janeiro</td>\n",
              "      <td>0</td>\n",
              "    </tr>\n",
              "  </tbody>\n",
              "</table>\n",
              "</div>"
            ],
            "text/plain": [
              "         UF                       Tipo Crime      Mês  Ocorrências\n",
              "14457  Acre                          Estupro  janeiro           18\n",
              "14458  Acre                 Furto de veículo  janeiro           23\n",
              "14459  Acre                 Homicídio doloso  janeiro           46\n",
              "14460  Acre  Lesão corporal seguida de morte  janeiro            0\n",
              "14461  Acre   Roubo a instituição financeira  janeiro            0"
            ]
          },
          "metadata": {
            "tags": []
          },
          "execution_count": 7
        }
      ]
    },
    {
      "cell_type": "code",
      "metadata": {
        "id": "_hcSOuNyhkBM"
      },
      "source": [
        "#Juntado as bases com as ocorrências e vítimas\n",
        "merged_df = pd.merge(dataset_ocorrencias, dataset_vitimas, left_on=['UF', 'Tipo Crime', 'Mês'], right_on=['UF', 'Tipo Crime', 'Mês'])"
      ],
      "execution_count": null,
      "outputs": []
    },
    {
      "cell_type": "code",
      "metadata": {
        "colab": {
          "base_uri": "https://localhost:8080/",
          "height": 204
        },
        "id": "2fsDGgx3081M",
        "outputId": "fed50fc5-b880-4a71-a3e2-fe04ad855c06"
      },
      "source": [
        "merged_df.head()"
      ],
      "execution_count": null,
      "outputs": [
        {
          "output_type": "execute_result",
          "data": {
            "text/html": [
              "<div>\n",
              "<style scoped>\n",
              "    .dataframe tbody tr th:only-of-type {\n",
              "        vertical-align: middle;\n",
              "    }\n",
              "\n",
              "    .dataframe tbody tr th {\n",
              "        vertical-align: top;\n",
              "    }\n",
              "\n",
              "    .dataframe thead th {\n",
              "        text-align: right;\n",
              "    }\n",
              "</style>\n",
              "<table border=\"1\" class=\"dataframe\">\n",
              "  <thead>\n",
              "    <tr style=\"text-align: right;\">\n",
              "      <th></th>\n",
              "      <th>UF</th>\n",
              "      <th>Tipo Crime</th>\n",
              "      <th>Mês</th>\n",
              "      <th>Ocorrências</th>\n",
              "      <th>Vítimas</th>\n",
              "    </tr>\n",
              "  </thead>\n",
              "  <tbody>\n",
              "    <tr>\n",
              "      <th>0</th>\n",
              "      <td>Acre</td>\n",
              "      <td>Homicídio doloso</td>\n",
              "      <td>janeiro</td>\n",
              "      <td>46</td>\n",
              "      <td>46</td>\n",
              "    </tr>\n",
              "    <tr>\n",
              "      <th>1</th>\n",
              "      <td>Acre</td>\n",
              "      <td>Lesão corporal seguida de morte</td>\n",
              "      <td>janeiro</td>\n",
              "      <td>0</td>\n",
              "      <td>0</td>\n",
              "    </tr>\n",
              "    <tr>\n",
              "      <th>2</th>\n",
              "      <td>Acre</td>\n",
              "      <td>Roubo seguido de morte (latrocínio)</td>\n",
              "      <td>janeiro</td>\n",
              "      <td>1</td>\n",
              "      <td>1</td>\n",
              "    </tr>\n",
              "    <tr>\n",
              "      <th>3</th>\n",
              "      <td>Acre</td>\n",
              "      <td>Homicídio doloso</td>\n",
              "      <td>fevereiro</td>\n",
              "      <td>20</td>\n",
              "      <td>20</td>\n",
              "    </tr>\n",
              "    <tr>\n",
              "      <th>4</th>\n",
              "      <td>Acre</td>\n",
              "      <td>Homicídio doloso</td>\n",
              "      <td>março</td>\n",
              "      <td>18</td>\n",
              "      <td>18</td>\n",
              "    </tr>\n",
              "  </tbody>\n",
              "</table>\n",
              "</div>"
            ],
            "text/plain": [
              "     UF                           Tipo Crime        Mês  Ocorrências  Vítimas\n",
              "0  Acre                     Homicídio doloso    janeiro           46       46\n",
              "1  Acre      Lesão corporal seguida de morte    janeiro            0        0\n",
              "2  Acre  Roubo seguido de morte (latrocínio)    janeiro            1        1\n",
              "3  Acre                     Homicídio doloso  fevereiro           20       20\n",
              "4  Acre                     Homicídio doloso      março           18       18"
            ]
          },
          "metadata": {
            "tags": []
          },
          "execution_count": 9
        }
      ]
    },
    {
      "cell_type": "code",
      "metadata": {
        "colab": {
          "base_uri": "https://localhost:8080/",
          "height": 204
        },
        "id": "91ui4zFNuDdE",
        "outputId": "1960a6d7-5a4c-451c-e63a-fb5de7ef3167"
      },
      "source": [
        "#Agrupando por estado e tipo crime, somando as ocorrências e vítimas de todos os meses\n",
        "grouped_df = merged_df.groupby(['UF', 'Tipo Crime'], as_index=False).agg({'Ocorrências': 'sum', 'Vítimas': 'sum'})\n",
        "grouped_df.head()"
      ],
      "execution_count": null,
      "outputs": [
        {
          "output_type": "execute_result",
          "data": {
            "text/html": [
              "<div>\n",
              "<style scoped>\n",
              "    .dataframe tbody tr th:only-of-type {\n",
              "        vertical-align: middle;\n",
              "    }\n",
              "\n",
              "    .dataframe tbody tr th {\n",
              "        vertical-align: top;\n",
              "    }\n",
              "\n",
              "    .dataframe thead th {\n",
              "        text-align: right;\n",
              "    }\n",
              "</style>\n",
              "<table border=\"1\" class=\"dataframe\">\n",
              "  <thead>\n",
              "    <tr style=\"text-align: right;\">\n",
              "      <th></th>\n",
              "      <th>UF</th>\n",
              "      <th>Tipo Crime</th>\n",
              "      <th>Ocorrências</th>\n",
              "      <th>Vítimas</th>\n",
              "    </tr>\n",
              "  </thead>\n",
              "  <tbody>\n",
              "    <tr>\n",
              "      <th>0</th>\n",
              "      <td>Acre</td>\n",
              "      <td>Homicídio doloso</td>\n",
              "      <td>271</td>\n",
              "      <td>273</td>\n",
              "    </tr>\n",
              "    <tr>\n",
              "      <th>1</th>\n",
              "      <td>Acre</td>\n",
              "      <td>Lesão corporal seguida de morte</td>\n",
              "      <td>1</td>\n",
              "      <td>1</td>\n",
              "    </tr>\n",
              "    <tr>\n",
              "      <th>2</th>\n",
              "      <td>Acre</td>\n",
              "      <td>Roubo seguido de morte (latrocínio)</td>\n",
              "      <td>11</td>\n",
              "      <td>11</td>\n",
              "    </tr>\n",
              "    <tr>\n",
              "      <th>3</th>\n",
              "      <td>Alagoas</td>\n",
              "      <td>Homicídio doloso</td>\n",
              "      <td>1187</td>\n",
              "      <td>1209</td>\n",
              "    </tr>\n",
              "    <tr>\n",
              "      <th>4</th>\n",
              "      <td>Alagoas</td>\n",
              "      <td>Lesão corporal seguida de morte</td>\n",
              "      <td>7</td>\n",
              "      <td>7</td>\n",
              "    </tr>\n",
              "  </tbody>\n",
              "</table>\n",
              "</div>"
            ],
            "text/plain": [
              "        UF                           Tipo Crime  Ocorrências  Vítimas\n",
              "0     Acre                     Homicídio doloso          271      273\n",
              "1     Acre      Lesão corporal seguida de morte            1        1\n",
              "2     Acre  Roubo seguido de morte (latrocínio)           11       11\n",
              "3  Alagoas                     Homicídio doloso         1187     1209\n",
              "4  Alagoas      Lesão corporal seguida de morte            7        7"
            ]
          },
          "metadata": {
            "tags": []
          },
          "execution_count": 10
        }
      ]
    },
    {
      "cell_type": "code",
      "metadata": {
        "colab": {
          "base_uri": "https://localhost:8080/",
          "height": 204
        },
        "id": "mXENeT_J9ryl",
        "outputId": "7f86236e-7f46-42f4-8f1f-f8b4cd9fd9dc"
      },
      "source": [
        "#Transformando os rótulos de tipo crime em colunas\n",
        "\n",
        "df_crimes = grouped_df.set_index(['UF','Tipo Crime'])['Ocorrências'].unstack()\n",
        "\n",
        "df_crimes.reset_index(level=0, inplace=True)\n",
        "\n",
        "\n",
        "df_crimes.head()"
      ],
      "execution_count": null,
      "outputs": [
        {
          "output_type": "execute_result",
          "data": {
            "text/html": [
              "<div>\n",
              "<style scoped>\n",
              "    .dataframe tbody tr th:only-of-type {\n",
              "        vertical-align: middle;\n",
              "    }\n",
              "\n",
              "    .dataframe tbody tr th {\n",
              "        vertical-align: top;\n",
              "    }\n",
              "\n",
              "    .dataframe thead th {\n",
              "        text-align: right;\n",
              "    }\n",
              "</style>\n",
              "<table border=\"1\" class=\"dataframe\">\n",
              "  <thead>\n",
              "    <tr style=\"text-align: right;\">\n",
              "      <th>Tipo Crime</th>\n",
              "      <th>UF</th>\n",
              "      <th>Homicídio doloso</th>\n",
              "      <th>Lesão corporal seguida de morte</th>\n",
              "      <th>Roubo seguido de morte (latrocínio)</th>\n",
              "    </tr>\n",
              "  </thead>\n",
              "  <tbody>\n",
              "    <tr>\n",
              "      <th>0</th>\n",
              "      <td>Acre</td>\n",
              "      <td>271</td>\n",
              "      <td>1</td>\n",
              "      <td>11</td>\n",
              "    </tr>\n",
              "    <tr>\n",
              "      <th>1</th>\n",
              "      <td>Alagoas</td>\n",
              "      <td>1187</td>\n",
              "      <td>7</td>\n",
              "      <td>21</td>\n",
              "    </tr>\n",
              "    <tr>\n",
              "      <th>2</th>\n",
              "      <td>Amapá</td>\n",
              "      <td>223</td>\n",
              "      <td>15</td>\n",
              "      <td>10</td>\n",
              "    </tr>\n",
              "    <tr>\n",
              "      <th>3</th>\n",
              "      <td>Amazonas</td>\n",
              "      <td>902</td>\n",
              "      <td>19</td>\n",
              "      <td>45</td>\n",
              "    </tr>\n",
              "    <tr>\n",
              "      <th>4</th>\n",
              "      <td>Bahia</td>\n",
              "      <td>5549</td>\n",
              "      <td>91</td>\n",
              "      <td>114</td>\n",
              "    </tr>\n",
              "  </tbody>\n",
              "</table>\n",
              "</div>"
            ],
            "text/plain": [
              "Tipo Crime        UF  ...  Roubo seguido de morte (latrocínio)\n",
              "0               Acre  ...                                   11\n",
              "1            Alagoas  ...                                   21\n",
              "2              Amapá  ...                                   10\n",
              "3           Amazonas  ...                                   45\n",
              "4              Bahia  ...                                  114\n",
              "\n",
              "[5 rows x 4 columns]"
            ]
          },
          "metadata": {
            "tags": []
          },
          "execution_count": 11
        }
      ]
    },
    {
      "cell_type": "code",
      "metadata": {
        "colab": {
          "base_uri": "https://localhost:8080/",
          "height": 204
        },
        "id": "LhDp_dHui8Ni",
        "outputId": "bf5517b3-eb7d-4d2e-a96b-9cbc38d4e9a8"
      },
      "source": [
        "df_vitimas = grouped_df.pivot(index='UF', columns=\"Tipo Crime\", values='Vítimas');\n",
        "\n",
        "df_vitimas.reset_index(level=0, inplace=True)\n",
        "\n",
        "df_vitimas['Total de vítimas'] = df_vitimas['Homicídio doloso'] + df_vitimas['Lesão corporal seguida de morte'] + df_vitimas['Roubo seguido de morte (latrocínio)']\n",
        "\n",
        "df_vitimas.head()"
      ],
      "execution_count": null,
      "outputs": [
        {
          "output_type": "execute_result",
          "data": {
            "text/html": [
              "<div>\n",
              "<style scoped>\n",
              "    .dataframe tbody tr th:only-of-type {\n",
              "        vertical-align: middle;\n",
              "    }\n",
              "\n",
              "    .dataframe tbody tr th {\n",
              "        vertical-align: top;\n",
              "    }\n",
              "\n",
              "    .dataframe thead th {\n",
              "        text-align: right;\n",
              "    }\n",
              "</style>\n",
              "<table border=\"1\" class=\"dataframe\">\n",
              "  <thead>\n",
              "    <tr style=\"text-align: right;\">\n",
              "      <th>Tipo Crime</th>\n",
              "      <th>UF</th>\n",
              "      <th>Homicídio doloso</th>\n",
              "      <th>Lesão corporal seguida de morte</th>\n",
              "      <th>Roubo seguido de morte (latrocínio)</th>\n",
              "      <th>Total de vítimas</th>\n",
              "    </tr>\n",
              "  </thead>\n",
              "  <tbody>\n",
              "    <tr>\n",
              "      <th>0</th>\n",
              "      <td>Acre</td>\n",
              "      <td>273</td>\n",
              "      <td>1</td>\n",
              "      <td>11</td>\n",
              "      <td>285</td>\n",
              "    </tr>\n",
              "    <tr>\n",
              "      <th>1</th>\n",
              "      <td>Alagoas</td>\n",
              "      <td>1209</td>\n",
              "      <td>7</td>\n",
              "      <td>21</td>\n",
              "      <td>1237</td>\n",
              "    </tr>\n",
              "    <tr>\n",
              "      <th>2</th>\n",
              "      <td>Amapá</td>\n",
              "      <td>225</td>\n",
              "      <td>18</td>\n",
              "      <td>10</td>\n",
              "      <td>253</td>\n",
              "    </tr>\n",
              "    <tr>\n",
              "      <th>3</th>\n",
              "      <td>Amazonas</td>\n",
              "      <td>921</td>\n",
              "      <td>20</td>\n",
              "      <td>44</td>\n",
              "      <td>985</td>\n",
              "    </tr>\n",
              "    <tr>\n",
              "      <th>4</th>\n",
              "      <td>Bahia</td>\n",
              "      <td>5344</td>\n",
              "      <td>86</td>\n",
              "      <td>105</td>\n",
              "      <td>5535</td>\n",
              "    </tr>\n",
              "  </tbody>\n",
              "</table>\n",
              "</div>"
            ],
            "text/plain": [
              "Tipo Crime        UF  ...  Total de vítimas\n",
              "0               Acre  ...               285\n",
              "1            Alagoas  ...              1237\n",
              "2              Amapá  ...               253\n",
              "3           Amazonas  ...               985\n",
              "4              Bahia  ...              5535\n",
              "\n",
              "[5 rows x 5 columns]"
            ]
          },
          "metadata": {
            "tags": []
          },
          "execution_count": 12
        }
      ]
    },
    {
      "cell_type": "code",
      "metadata": {
        "colab": {
          "base_uri": "https://localhost:8080/",
          "height": 204
        },
        "id": "6gh8jkIwmAfE",
        "outputId": "8400cc03-c3e2-4022-f840-8b30d11b8b24"
      },
      "source": [
        "df_crimes['Vítimas'] = df_vitimas['Total de vítimas']\n",
        "df_crimes.head()"
      ],
      "execution_count": null,
      "outputs": [
        {
          "output_type": "execute_result",
          "data": {
            "text/html": [
              "<div>\n",
              "<style scoped>\n",
              "    .dataframe tbody tr th:only-of-type {\n",
              "        vertical-align: middle;\n",
              "    }\n",
              "\n",
              "    .dataframe tbody tr th {\n",
              "        vertical-align: top;\n",
              "    }\n",
              "\n",
              "    .dataframe thead th {\n",
              "        text-align: right;\n",
              "    }\n",
              "</style>\n",
              "<table border=\"1\" class=\"dataframe\">\n",
              "  <thead>\n",
              "    <tr style=\"text-align: right;\">\n",
              "      <th>Tipo Crime</th>\n",
              "      <th>UF</th>\n",
              "      <th>Homicídio doloso</th>\n",
              "      <th>Lesão corporal seguida de morte</th>\n",
              "      <th>Roubo seguido de morte (latrocínio)</th>\n",
              "      <th>Vítimas</th>\n",
              "    </tr>\n",
              "  </thead>\n",
              "  <tbody>\n",
              "    <tr>\n",
              "      <th>0</th>\n",
              "      <td>Acre</td>\n",
              "      <td>271</td>\n",
              "      <td>1</td>\n",
              "      <td>11</td>\n",
              "      <td>285</td>\n",
              "    </tr>\n",
              "    <tr>\n",
              "      <th>1</th>\n",
              "      <td>Alagoas</td>\n",
              "      <td>1187</td>\n",
              "      <td>7</td>\n",
              "      <td>21</td>\n",
              "      <td>1237</td>\n",
              "    </tr>\n",
              "    <tr>\n",
              "      <th>2</th>\n",
              "      <td>Amapá</td>\n",
              "      <td>223</td>\n",
              "      <td>15</td>\n",
              "      <td>10</td>\n",
              "      <td>253</td>\n",
              "    </tr>\n",
              "    <tr>\n",
              "      <th>3</th>\n",
              "      <td>Amazonas</td>\n",
              "      <td>902</td>\n",
              "      <td>19</td>\n",
              "      <td>45</td>\n",
              "      <td>985</td>\n",
              "    </tr>\n",
              "    <tr>\n",
              "      <th>4</th>\n",
              "      <td>Bahia</td>\n",
              "      <td>5549</td>\n",
              "      <td>91</td>\n",
              "      <td>114</td>\n",
              "      <td>5535</td>\n",
              "    </tr>\n",
              "  </tbody>\n",
              "</table>\n",
              "</div>"
            ],
            "text/plain": [
              "Tipo Crime        UF  ...  Vítimas\n",
              "0               Acre  ...      285\n",
              "1            Alagoas  ...     1237\n",
              "2              Amapá  ...      253\n",
              "3           Amazonas  ...      985\n",
              "4              Bahia  ...     5535\n",
              "\n",
              "[5 rows x 5 columns]"
            ]
          },
          "metadata": {
            "tags": []
          },
          "execution_count": 13
        }
      ]
    },
    {
      "cell_type": "code",
      "metadata": {
        "id": "nWP-hrTeIV2q",
        "colab": {
          "base_uri": "https://localhost:8080/",
          "height": 886
        },
        "outputId": "3e701843-2be9-473e-946c-f29123e84fa9"
      },
      "source": [
        "# Dataframe Final \n",
        "df_crimes"
      ],
      "execution_count": null,
      "outputs": [
        {
          "output_type": "execute_result",
          "data": {
            "text/html": [
              "<div>\n",
              "<style scoped>\n",
              "    .dataframe tbody tr th:only-of-type {\n",
              "        vertical-align: middle;\n",
              "    }\n",
              "\n",
              "    .dataframe tbody tr th {\n",
              "        vertical-align: top;\n",
              "    }\n",
              "\n",
              "    .dataframe thead th {\n",
              "        text-align: right;\n",
              "    }\n",
              "</style>\n",
              "<table border=\"1\" class=\"dataframe\">\n",
              "  <thead>\n",
              "    <tr style=\"text-align: right;\">\n",
              "      <th>Tipo Crime</th>\n",
              "      <th>UF</th>\n",
              "      <th>Homicídio doloso</th>\n",
              "      <th>Lesão corporal seguida de morte</th>\n",
              "      <th>Roubo seguido de morte (latrocínio)</th>\n",
              "      <th>Vítimas</th>\n",
              "    </tr>\n",
              "  </thead>\n",
              "  <tbody>\n",
              "    <tr>\n",
              "      <th>0</th>\n",
              "      <td>Acre</td>\n",
              "      <td>271</td>\n",
              "      <td>1</td>\n",
              "      <td>11</td>\n",
              "      <td>285</td>\n",
              "    </tr>\n",
              "    <tr>\n",
              "      <th>1</th>\n",
              "      <td>Alagoas</td>\n",
              "      <td>1187</td>\n",
              "      <td>7</td>\n",
              "      <td>21</td>\n",
              "      <td>1237</td>\n",
              "    </tr>\n",
              "    <tr>\n",
              "      <th>2</th>\n",
              "      <td>Amapá</td>\n",
              "      <td>223</td>\n",
              "      <td>15</td>\n",
              "      <td>10</td>\n",
              "      <td>253</td>\n",
              "    </tr>\n",
              "    <tr>\n",
              "      <th>3</th>\n",
              "      <td>Amazonas</td>\n",
              "      <td>902</td>\n",
              "      <td>19</td>\n",
              "      <td>45</td>\n",
              "      <td>985</td>\n",
              "    </tr>\n",
              "    <tr>\n",
              "      <th>4</th>\n",
              "      <td>Bahia</td>\n",
              "      <td>5549</td>\n",
              "      <td>91</td>\n",
              "      <td>114</td>\n",
              "      <td>5535</td>\n",
              "    </tr>\n",
              "    <tr>\n",
              "      <th>5</th>\n",
              "      <td>Ceará</td>\n",
              "      <td>3732</td>\n",
              "      <td>30</td>\n",
              "      <td>47</td>\n",
              "      <td>4039</td>\n",
              "    </tr>\n",
              "    <tr>\n",
              "      <th>6</th>\n",
              "      <td>Distrito Federal</td>\n",
              "      <td>345</td>\n",
              "      <td>6</td>\n",
              "      <td>30</td>\n",
              "      <td>390</td>\n",
              "    </tr>\n",
              "    <tr>\n",
              "      <th>7</th>\n",
              "      <td>Espírito Santo</td>\n",
              "      <td>1078</td>\n",
              "      <td>16</td>\n",
              "      <td>38</td>\n",
              "      <td>1156</td>\n",
              "    </tr>\n",
              "    <tr>\n",
              "      <th>8</th>\n",
              "      <td>Goiás</td>\n",
              "      <td>1456</td>\n",
              "      <td>23</td>\n",
              "      <td>45</td>\n",
              "      <td>1585</td>\n",
              "    </tr>\n",
              "    <tr>\n",
              "      <th>9</th>\n",
              "      <td>Maranhão</td>\n",
              "      <td>1856</td>\n",
              "      <td>13</td>\n",
              "      <td>75</td>\n",
              "      <td>1950</td>\n",
              "    </tr>\n",
              "    <tr>\n",
              "      <th>10</th>\n",
              "      <td>Mato Grosso</td>\n",
              "      <td>810</td>\n",
              "      <td>25</td>\n",
              "      <td>27</td>\n",
              "      <td>859</td>\n",
              "    </tr>\n",
              "    <tr>\n",
              "      <th>11</th>\n",
              "      <td>Mato Grosso do Sul</td>\n",
              "      <td>430</td>\n",
              "      <td>8</td>\n",
              "      <td>17</td>\n",
              "      <td>488</td>\n",
              "    </tr>\n",
              "    <tr>\n",
              "      <th>12</th>\n",
              "      <td>Minas Gerais</td>\n",
              "      <td>2645</td>\n",
              "      <td>51</td>\n",
              "      <td>74</td>\n",
              "      <td>2695</td>\n",
              "    </tr>\n",
              "    <tr>\n",
              "      <th>13</th>\n",
              "      <td>Paraná</td>\n",
              "      <td>1891</td>\n",
              "      <td>61</td>\n",
              "      <td>57</td>\n",
              "      <td>2090</td>\n",
              "    </tr>\n",
              "    <tr>\n",
              "      <th>14</th>\n",
              "      <td>Paraíba</td>\n",
              "      <td>1113</td>\n",
              "      <td>1</td>\n",
              "      <td>3</td>\n",
              "      <td>1159</td>\n",
              "    </tr>\n",
              "    <tr>\n",
              "      <th>15</th>\n",
              "      <td>Pará</td>\n",
              "      <td>2121</td>\n",
              "      <td>43</td>\n",
              "      <td>97</td>\n",
              "      <td>2333</td>\n",
              "    </tr>\n",
              "    <tr>\n",
              "      <th>16</th>\n",
              "      <td>Pernambuco</td>\n",
              "      <td>3355</td>\n",
              "      <td>28</td>\n",
              "      <td>101</td>\n",
              "      <td>3686</td>\n",
              "    </tr>\n",
              "    <tr>\n",
              "      <th>17</th>\n",
              "      <td>Piauí</td>\n",
              "      <td>663</td>\n",
              "      <td>8</td>\n",
              "      <td>37</td>\n",
              "      <td>708</td>\n",
              "    </tr>\n",
              "    <tr>\n",
              "      <th>18</th>\n",
              "      <td>Rio Grande do Norte</td>\n",
              "      <td>1214</td>\n",
              "      <td>82</td>\n",
              "      <td>62</td>\n",
              "      <td>1386</td>\n",
              "    </tr>\n",
              "    <tr>\n",
              "      <th>19</th>\n",
              "      <td>Rio Grande do Sul</td>\n",
              "      <td>1688</td>\n",
              "      <td>26</td>\n",
              "      <td>63</td>\n",
              "      <td>2018</td>\n",
              "    </tr>\n",
              "    <tr>\n",
              "      <th>20</th>\n",
              "      <td>Rio de Janeiro</td>\n",
              "      <td>3312</td>\n",
              "      <td>31</td>\n",
              "      <td>85</td>\n",
              "      <td>3649</td>\n",
              "    </tr>\n",
              "    <tr>\n",
              "      <th>21</th>\n",
              "      <td>Rondônia</td>\n",
              "      <td>381</td>\n",
              "      <td>1</td>\n",
              "      <td>15</td>\n",
              "      <td>465</td>\n",
              "    </tr>\n",
              "    <tr>\n",
              "      <th>22</th>\n",
              "      <td>Roraima</td>\n",
              "      <td>169</td>\n",
              "      <td>5</td>\n",
              "      <td>15</td>\n",
              "      <td>195</td>\n",
              "    </tr>\n",
              "    <tr>\n",
              "      <th>23</th>\n",
              "      <td>Santa Catarina</td>\n",
              "      <td>668</td>\n",
              "      <td>14</td>\n",
              "      <td>17</td>\n",
              "      <td>727</td>\n",
              "    </tr>\n",
              "    <tr>\n",
              "      <th>24</th>\n",
              "      <td>Sergipe</td>\n",
              "      <td>761</td>\n",
              "      <td>1</td>\n",
              "      <td>27</td>\n",
              "      <td>761</td>\n",
              "    </tr>\n",
              "    <tr>\n",
              "      <th>25</th>\n",
              "      <td>São Paulo</td>\n",
              "      <td>2893</td>\n",
              "      <td>122</td>\n",
              "      <td>179</td>\n",
              "      <td>3340</td>\n",
              "    </tr>\n",
              "    <tr>\n",
              "      <th>26</th>\n",
              "      <td>Tocantins</td>\n",
              "      <td>367</td>\n",
              "      <td>7</td>\n",
              "      <td>16</td>\n",
              "      <td>417</td>\n",
              "    </tr>\n",
              "  </tbody>\n",
              "</table>\n",
              "</div>"
            ],
            "text/plain": [
              "Tipo Crime                   UF  ...  Vítimas\n",
              "0                          Acre  ...      285\n",
              "1                       Alagoas  ...     1237\n",
              "2                         Amapá  ...      253\n",
              "3                      Amazonas  ...      985\n",
              "4                         Bahia  ...     5535\n",
              "5                         Ceará  ...     4039\n",
              "6              Distrito Federal  ...      390\n",
              "7                Espírito Santo  ...     1156\n",
              "8                         Goiás  ...     1585\n",
              "9                      Maranhão  ...     1950\n",
              "10                  Mato Grosso  ...      859\n",
              "11           Mato Grosso do Sul  ...      488\n",
              "12                 Minas Gerais  ...     2695\n",
              "13                       Paraná  ...     2090\n",
              "14                      Paraíba  ...     1159\n",
              "15                         Pará  ...     2333\n",
              "16                   Pernambuco  ...     3686\n",
              "17                        Piauí  ...      708\n",
              "18          Rio Grande do Norte  ...     1386\n",
              "19            Rio Grande do Sul  ...     2018\n",
              "20               Rio de Janeiro  ...     3649\n",
              "21                     Rondônia  ...      465\n",
              "22                      Roraima  ...      195\n",
              "23               Santa Catarina  ...      727\n",
              "24                      Sergipe  ...      761\n",
              "25                    São Paulo  ...     3340\n",
              "26                    Tocantins  ...      417\n",
              "\n",
              "[27 rows x 5 columns]"
            ]
          },
          "metadata": {
            "tags": []
          },
          "execution_count": 14
        }
      ]
    },
    {
      "cell_type": "markdown",
      "metadata": {
        "id": "VsRRwzlB4zjy"
      },
      "source": [
        "## Análise simples dos dados\n",
        "\n",
        "Nessa etapa vamos analisar as correlações existente entre os crimes.\n"
      ]
    },
    {
      "cell_type": "code",
      "metadata": {
        "id": "KqyYl5Re57oS",
        "colab": {
          "base_uri": "https://localhost:8080/",
          "height": 470
        },
        "outputId": "d94a3f90-94cb-4d84-a3e4-fb1fcd49ad8c"
      },
      "source": [
        "df_crimes_corr = df_crimes[['Homicídio doloso','Lesão corporal seguida de morte','Roubo seguido de morte (latrocínio)', 'Vítimas']].corr()\n",
        "sns.heatmap(df_crimes_corr, xticklabels=['Homicídio doloso','Lesão corporal seguida de morte','Roubo seguido de morte (latrocínio)', 'Vítimas'], yticklabels=['Homicídio doloso','Lesão corporal seguida de morte','Roubo seguido de morte (latrocínio)', 'Vítimas'], annot=True)"
      ],
      "execution_count": null,
      "outputs": [
        {
          "output_type": "execute_result",
          "data": {
            "text/plain": [
              "<matplotlib.axes._subplots.AxesSubplot at 0x7f8c01edafd0>"
            ]
          },
          "metadata": {
            "tags": []
          },
          "execution_count": 15
        },
        {
          "output_type": "display_data",
          "data": {
            "image/png": "[encoded data removed]",
            "text/plain": [
              "<Figure size 432x288 with 2 Axes>"
            ]
          },
          "metadata": {
            "tags": [],
            "needs_background": "light"
          }
        }
      ]
    },
    {
      "cell_type": "markdown",
      "metadata": {
        "id": "xOp8HpAqnbAi"
      },
      "source": [
        "**O que podemos concluir?**\n",
        "\n",
        "Dos crimes com vítimas, o tipo de crime que está mais correlacionado com o número de vítimas é (como era de se esperar) o Homicídio Doloso. Lesão corporal seguida de morte e Roubo seguido de morte (latrocínio) ficam logo atrás.\n",
        "\n",
        "Além disso podemos ver que existe uma correlação forte entre Roubo seguido de morte e Lesão corporal seguido de morte."
      ]
    },
    {
      "cell_type": "code",
      "metadata": {
        "id": "bAwt0GeL77Dl",
        "colab": {
          "base_uri": "https://localhost:8080/",
          "height": 204
        },
        "outputId": "151b2294-9119-46eb-b561-18e2665c6c23"
      },
      "source": [
        "#Normalizando os dados \n",
        "\n",
        "x = df_crimes[['Homicídio doloso','Lesão corporal seguida de morte','Roubo seguido de morte (latrocínio)', 'Vítimas']].values #returns a numpy array\n",
        "min_max_scaler = preprocessing.MinMaxScaler()\n",
        "x_scaled = min_max_scaler.fit_transform(x)\n",
        "df_crimes_norm = pd.DataFrame(x_scaled, index=df_crimes.index, columns=['Homicídio doloso','Lesão corporal seguida de morte','Roubo seguido de morte (latrocínio)', 'Vítimas'])\n",
        "df_crimes_norm.head()"
      ],
      "execution_count": null,
      "outputs": [
        {
          "output_type": "execute_result",
          "data": {
            "text/html": [
              "<div>\n",
              "<style scoped>\n",
              "    .dataframe tbody tr th:only-of-type {\n",
              "        vertical-align: middle;\n",
              "    }\n",
              "\n",
              "    .dataframe tbody tr th {\n",
              "        vertical-align: top;\n",
              "    }\n",
              "\n",
              "    .dataframe thead th {\n",
              "        text-align: right;\n",
              "    }\n",
              "</style>\n",
              "<table border=\"1\" class=\"dataframe\">\n",
              "  <thead>\n",
              "    <tr style=\"text-align: right;\">\n",
              "      <th></th>\n",
              "      <th>Homicídio doloso</th>\n",
              "      <th>Lesão corporal seguida de morte</th>\n",
              "      <th>Roubo seguido de morte (latrocínio)</th>\n",
              "      <th>Vítimas</th>\n",
              "    </tr>\n",
              "  </thead>\n",
              "  <tbody>\n",
              "    <tr>\n",
              "      <th>0</th>\n",
              "      <td>0.018959</td>\n",
              "      <td>0.000000</td>\n",
              "      <td>0.045455</td>\n",
              "      <td>0.016854</td>\n",
              "    </tr>\n",
              "    <tr>\n",
              "      <th>1</th>\n",
              "      <td>0.189219</td>\n",
              "      <td>0.049587</td>\n",
              "      <td>0.102273</td>\n",
              "      <td>0.195131</td>\n",
              "    </tr>\n",
              "    <tr>\n",
              "      <th>2</th>\n",
              "      <td>0.010037</td>\n",
              "      <td>0.115702</td>\n",
              "      <td>0.039773</td>\n",
              "      <td>0.010861</td>\n",
              "    </tr>\n",
              "    <tr>\n",
              "      <th>3</th>\n",
              "      <td>0.136245</td>\n",
              "      <td>0.148760</td>\n",
              "      <td>0.238636</td>\n",
              "      <td>0.147940</td>\n",
              "    </tr>\n",
              "    <tr>\n",
              "      <th>4</th>\n",
              "      <td>1.000000</td>\n",
              "      <td>0.743802</td>\n",
              "      <td>0.630682</td>\n",
              "      <td>1.000000</td>\n",
              "    </tr>\n",
              "  </tbody>\n",
              "</table>\n",
              "</div>"
            ],
            "text/plain": [
              "   Homicídio doloso  ...   Vítimas\n",
              "0          0.018959  ...  0.016854\n",
              "1          0.189219  ...  0.195131\n",
              "2          0.010037  ...  0.010861\n",
              "3          0.136245  ...  0.147940\n",
              "4          1.000000  ...  1.000000\n",
              "\n",
              "[5 rows x 4 columns]"
            ]
          },
          "metadata": {
            "tags": []
          },
          "execution_count": 16
        }
      ]
    },
    {
      "cell_type": "code",
      "metadata": {
        "id": "mApSmoMyLzm6"
      },
      "source": [
        ""
      ],
      "execution_count": null,
      "outputs": []
    },
    {
      "cell_type": "code",
      "metadata": {
        "id": "Woj7O4OsN2In",
        "colab": {
          "base_uri": "https://localhost:8080/",
          "height": 986
        },
        "outputId": "aa9c79b1-0051-4646-ca2e-ead51823f5f9"
      },
      "source": [
        "plt.figure(figsize=(15,15))\n",
        "sns.heatmap(\n",
        "    dataframe_dist,\n",
        "    cmap='BuPu',\n",
        "    linewidth=1\n",
        ")"
      ],
      "execution_count": null,
      "outputs": [
        {
          "output_type": "execute_result",
          "data": {
            "text/plain": [
              "<matplotlib.axes._subplots.AxesSubplot at 0x7f8c01d234d0>"
            ]
          },
          "metadata": {
            "tags": []
          },
          "execution_count": 18
        },
        {
          "output_type": "display_data",
          "data": {
            "image/png": "[encoded data removed]",
            "text/plain": [
              "<Figure size 1080x1080 with 2 Axes>"
            ]
          },
          "metadata": {
            "tags": [],
            "needs_background": "light"
          }
        }
      ]
    },
    {
      "cell_type": "markdown",
      "metadata": {
        "id": "7yDF54yTdN0l"
      },
      "source": [
        "Visualizando cidades similares a partir dos dados dos crimes"
      ]
    },
    {
      "cell_type": "code",
      "metadata": {
        "id": "96f73Gy1SPK8"
      },
      "source": [
        "long_form = dataframe_dist.unstack()\n",
        "\n",
        "long_form.index.rename([\"Cidade A\", \"Cidade B\"], inplace=True)\n",
        "long_form = long_form.to_frame('distance').reset_index()"
      ],
      "execution_count": null,
      "outputs": []
    },
    {
      "cell_type": "code",
      "metadata": {
        "id": "fh7OVWnMSkr5",
        "colab": {
          "base_uri": "https://localhost:8080/",
          "height": 1000
        },
        "outputId": "d10246ee-2d2f-405d-b792-8bf7bad2871c"
      },
      "source": [
        "long_form[\n",
        "    (long_form['distance'] < 0.1) \n",
        "    & (long_form['Cidade A'] != long_form['Cidade B'])\n",
        "]"
      ],
      "execution_count": null,
      "outputs": [
        {
          "output_type": "execute_result",
          "data": {
            "text/html": [
              "<div>\n",
              "<style scoped>\n",
              "    .dataframe tbody tr th:only-of-type {\n",
              "        vertical-align: middle;\n",
              "    }\n",
              "\n",
              "    .dataframe tbody tr th {\n",
              "        vertical-align: top;\n",
              "    }\n",
              "\n",
              "    .dataframe thead th {\n",
              "        text-align: right;\n",
              "    }\n",
              "</style>\n",
              "<table border=\"1\" class=\"dataframe\">\n",
              "  <thead>\n",
              "    <tr style=\"text-align: right;\">\n",
              "      <th></th>\n",
              "      <th>Cidade A</th>\n",
              "      <th>Cidade B</th>\n",
              "      <th>distance</th>\n",
              "    </tr>\n",
              "  </thead>\n",
              "  <tbody>\n",
              "    <tr>\n",
              "      <th>11</th>\n",
              "      <td>Acre</td>\n",
              "      <td>Mato Grosso do Sul</td>\n",
              "      <td>0.082629</td>\n",
              "    </tr>\n",
              "    <tr>\n",
              "      <th>21</th>\n",
              "      <td>Acre</td>\n",
              "      <td>Rondônia</td>\n",
              "      <td>0.045506</td>\n",
              "    </tr>\n",
              "    <tr>\n",
              "      <th>22</th>\n",
              "      <td>Acre</td>\n",
              "      <td>Roraima</td>\n",
              "      <td>0.047464</td>\n",
              "    </tr>\n",
              "    <tr>\n",
              "      <th>26</th>\n",
              "      <td>Acre</td>\n",
              "      <td>Tocantins</td>\n",
              "      <td>0.064772</td>\n",
              "    </tr>\n",
              "    <tr>\n",
              "      <th>65</th>\n",
              "      <td>Amapá</td>\n",
              "      <td>Mato Grosso do Sul</td>\n",
              "      <td>0.091355</td>\n",
              "    </tr>\n",
              "    <tr>\n",
              "      <th>76</th>\n",
              "      <td>Amapá</td>\n",
              "      <td>Roraima</td>\n",
              "      <td>0.088634</td>\n",
              "    </tr>\n",
              "    <tr>\n",
              "      <th>80</th>\n",
              "      <td>Amapá</td>\n",
              "      <td>Tocantins</td>\n",
              "      <td>0.084812</td>\n",
              "    </tr>\n",
              "    <tr>\n",
              "      <th>88</th>\n",
              "      <td>Amazonas</td>\n",
              "      <td>Espírito Santo</td>\n",
              "      <td>0.065515</td>\n",
              "    </tr>\n",
              "    <tr>\n",
              "      <th>173</th>\n",
              "      <td>Distrito Federal</td>\n",
              "      <td>Mato Grosso do Sul</td>\n",
              "      <td>0.079470</td>\n",
              "    </tr>\n",
              "    <tr>\n",
              "      <th>179</th>\n",
              "      <td>Distrito Federal</td>\n",
              "      <td>Piauí</td>\n",
              "      <td>0.094314</td>\n",
              "    </tr>\n",
              "    <tr>\n",
              "      <th>183</th>\n",
              "      <td>Distrito Federal</td>\n",
              "      <td>Rondônia</td>\n",
              "      <td>0.095986</td>\n",
              "    </tr>\n",
              "    <tr>\n",
              "      <th>184</th>\n",
              "      <td>Distrito Federal</td>\n",
              "      <td>Roraima</td>\n",
              "      <td>0.098669</td>\n",
              "    </tr>\n",
              "    <tr>\n",
              "      <th>188</th>\n",
              "      <td>Distrito Federal</td>\n",
              "      <td>Tocantins</td>\n",
              "      <td>0.080238</td>\n",
              "    </tr>\n",
              "    <tr>\n",
              "      <th>192</th>\n",
              "      <td>Espírito Santo</td>\n",
              "      <td>Amazonas</td>\n",
              "      <td>0.065515</td>\n",
              "    </tr>\n",
              "    <tr>\n",
              "      <th>297</th>\n",
              "      <td>Mato Grosso do Sul</td>\n",
              "      <td>Acre</td>\n",
              "      <td>0.082629</td>\n",
              "    </tr>\n",
              "    <tr>\n",
              "      <th>299</th>\n",
              "      <td>Mato Grosso do Sul</td>\n",
              "      <td>Amapá</td>\n",
              "      <td>0.091355</td>\n",
              "    </tr>\n",
              "    <tr>\n",
              "      <th>303</th>\n",
              "      <td>Mato Grosso do Sul</td>\n",
              "      <td>Distrito Federal</td>\n",
              "      <td>0.079470</td>\n",
              "    </tr>\n",
              "    <tr>\n",
              "      <th>318</th>\n",
              "      <td>Mato Grosso do Sul</td>\n",
              "      <td>Rondônia</td>\n",
              "      <td>0.059811</td>\n",
              "    </tr>\n",
              "    <tr>\n",
              "      <th>319</th>\n",
              "      <td>Mato Grosso do Sul</td>\n",
              "      <td>Roraima</td>\n",
              "      <td>0.078153</td>\n",
              "    </tr>\n",
              "    <tr>\n",
              "      <th>320</th>\n",
              "      <td>Mato Grosso do Sul</td>\n",
              "      <td>Santa Catarina</td>\n",
              "      <td>0.080119</td>\n",
              "    </tr>\n",
              "    <tr>\n",
              "      <th>323</th>\n",
              "      <td>Mato Grosso do Sul</td>\n",
              "      <td>Tocantins</td>\n",
              "      <td>0.020359</td>\n",
              "    </tr>\n",
              "    <tr>\n",
              "      <th>452</th>\n",
              "      <td>Pernambuco</td>\n",
              "      <td>Rio de Janeiro</td>\n",
              "      <td>0.094821</td>\n",
              "    </tr>\n",
              "    <tr>\n",
              "      <th>465</th>\n",
              "      <td>Piauí</td>\n",
              "      <td>Distrito Federal</td>\n",
              "      <td>0.094314</td>\n",
              "    </tr>\n",
              "    <tr>\n",
              "      <th>483</th>\n",
              "      <td>Piauí</td>\n",
              "      <td>Sergipe</td>\n",
              "      <td>0.083698</td>\n",
              "    </tr>\n",
              "    <tr>\n",
              "      <th>556</th>\n",
              "      <td>Rio de Janeiro</td>\n",
              "      <td>Pernambuco</td>\n",
              "      <td>0.094821</td>\n",
              "    </tr>\n",
              "    <tr>\n",
              "      <th>567</th>\n",
              "      <td>Rondônia</td>\n",
              "      <td>Acre</td>\n",
              "      <td>0.045506</td>\n",
              "    </tr>\n",
              "    <tr>\n",
              "      <th>573</th>\n",
              "      <td>Rondônia</td>\n",
              "      <td>Distrito Federal</td>\n",
              "      <td>0.095986</td>\n",
              "    </tr>\n",
              "    <tr>\n",
              "      <th>578</th>\n",
              "      <td>Rondônia</td>\n",
              "      <td>Mato Grosso do Sul</td>\n",
              "      <td>0.059811</td>\n",
              "    </tr>\n",
              "    <tr>\n",
              "      <th>589</th>\n",
              "      <td>Rondônia</td>\n",
              "      <td>Roraima</td>\n",
              "      <td>0.072125</td>\n",
              "    </tr>\n",
              "    <tr>\n",
              "      <th>593</th>\n",
              "      <td>Rondônia</td>\n",
              "      <td>Tocantins</td>\n",
              "      <td>0.050781</td>\n",
              "    </tr>\n",
              "    <tr>\n",
              "      <th>594</th>\n",
              "      <td>Roraima</td>\n",
              "      <td>Acre</td>\n",
              "      <td>0.047464</td>\n",
              "    </tr>\n",
              "    <tr>\n",
              "      <th>596</th>\n",
              "      <td>Roraima</td>\n",
              "      <td>Amapá</td>\n",
              "      <td>0.088634</td>\n",
              "    </tr>\n",
              "    <tr>\n",
              "      <th>600</th>\n",
              "      <td>Roraima</td>\n",
              "      <td>Distrito Federal</td>\n",
              "      <td>0.098669</td>\n",
              "    </tr>\n",
              "    <tr>\n",
              "      <th>605</th>\n",
              "      <td>Roraima</td>\n",
              "      <td>Mato Grosso do Sul</td>\n",
              "      <td>0.078153</td>\n",
              "    </tr>\n",
              "    <tr>\n",
              "      <th>615</th>\n",
              "      <td>Roraima</td>\n",
              "      <td>Rondônia</td>\n",
              "      <td>0.072125</td>\n",
              "    </tr>\n",
              "    <tr>\n",
              "      <th>620</th>\n",
              "      <td>Roraima</td>\n",
              "      <td>Tocantins</td>\n",
              "      <td>0.058209</td>\n",
              "    </tr>\n",
              "    <tr>\n",
              "      <th>632</th>\n",
              "      <td>Santa Catarina</td>\n",
              "      <td>Mato Grosso do Sul</td>\n",
              "      <td>0.080119</td>\n",
              "    </tr>\n",
              "    <tr>\n",
              "      <th>647</th>\n",
              "      <td>Santa Catarina</td>\n",
              "      <td>Tocantins</td>\n",
              "      <td>0.099395</td>\n",
              "    </tr>\n",
              "    <tr>\n",
              "      <th>665</th>\n",
              "      <td>Sergipe</td>\n",
              "      <td>Piauí</td>\n",
              "      <td>0.083698</td>\n",
              "    </tr>\n",
              "    <tr>\n",
              "      <th>702</th>\n",
              "      <td>Tocantins</td>\n",
              "      <td>Acre</td>\n",
              "      <td>0.064772</td>\n",
              "    </tr>\n",
              "    <tr>\n",
              "      <th>704</th>\n",
              "      <td>Tocantins</td>\n",
              "      <td>Amapá</td>\n",
              "      <td>0.084812</td>\n",
              "    </tr>\n",
              "    <tr>\n",
              "      <th>708</th>\n",
              "      <td>Tocantins</td>\n",
              "      <td>Distrito Federal</td>\n",
              "      <td>0.080238</td>\n",
              "    </tr>\n",
              "    <tr>\n",
              "      <th>713</th>\n",
              "      <td>Tocantins</td>\n",
              "      <td>Mato Grosso do Sul</td>\n",
              "      <td>0.020359</td>\n",
              "    </tr>\n",
              "    <tr>\n",
              "      <th>723</th>\n",
              "      <td>Tocantins</td>\n",
              "      <td>Rondônia</td>\n",
              "      <td>0.050781</td>\n",
              "    </tr>\n",
              "    <tr>\n",
              "      <th>724</th>\n",
              "      <td>Tocantins</td>\n",
              "      <td>Roraima</td>\n",
              "      <td>0.058209</td>\n",
              "    </tr>\n",
              "    <tr>\n",
              "      <th>725</th>\n",
              "      <td>Tocantins</td>\n",
              "      <td>Santa Catarina</td>\n",
              "      <td>0.099395</td>\n",
              "    </tr>\n",
              "  </tbody>\n",
              "</table>\n",
              "</div>"
            ],
            "text/plain": [
              "               Cidade A            Cidade B  distance\n",
              "11                 Acre  Mato Grosso do Sul  0.082629\n",
              "21                 Acre            Rondônia  0.045506\n",
              "22                 Acre             Roraima  0.047464\n",
              "26                 Acre           Tocantins  0.064772\n",
              "65                Amapá  Mato Grosso do Sul  0.091355\n",
              "76                Amapá             Roraima  0.088634\n",
              "80                Amapá           Tocantins  0.084812\n",
              "88             Amazonas      Espírito Santo  0.065515\n",
              "173    Distrito Federal  Mato Grosso do Sul  0.079470\n",
              "179    Distrito Federal               Piauí  0.094314\n",
              "183    Distrito Federal            Rondônia  0.095986\n",
              "184    Distrito Federal             Roraima  0.098669\n",
              "188    Distrito Federal           Tocantins  0.080238\n",
              "192      Espírito Santo            Amazonas  0.065515\n",
              "297  Mato Grosso do Sul                Acre  0.082629\n",
              "299  Mato Grosso do Sul               Amapá  0.091355\n",
              "303  Mato Grosso do Sul    Distrito Federal  0.079470\n",
              "318  Mato Grosso do Sul            Rondônia  0.059811\n",
              "319  Mato Grosso do Sul             Roraima  0.078153\n",
              "320  Mato Grosso do Sul      Santa Catarina  0.080119\n",
              "323  Mato Grosso do Sul           Tocantins  0.020359\n",
              "452          Pernambuco      Rio de Janeiro  0.094821\n",
              "465               Piauí    Distrito Federal  0.094314\n",
              "483               Piauí             Sergipe  0.083698\n",
              "556      Rio de Janeiro          Pernambuco  0.094821\n",
              "567            Rondônia                Acre  0.045506\n",
              "573            Rondônia    Distrito Federal  0.095986\n",
              "578            Rondônia  Mato Grosso do Sul  0.059811\n",
              "589            Rondônia             Roraima  0.072125\n",
              "593            Rondônia           Tocantins  0.050781\n",
              "594             Roraima                Acre  0.047464\n",
              "596             Roraima               Amapá  0.088634\n",
              "600             Roraima    Distrito Federal  0.098669\n",
              "605             Roraima  Mato Grosso do Sul  0.078153\n",
              "615             Roraima            Rondônia  0.072125\n",
              "620             Roraima           Tocantins  0.058209\n",
              "632      Santa Catarina  Mato Grosso do Sul  0.080119\n",
              "647      Santa Catarina           Tocantins  0.099395\n",
              "665             Sergipe               Piauí  0.083698\n",
              "702           Tocantins                Acre  0.064772\n",
              "704           Tocantins               Amapá  0.084812\n",
              "708           Tocantins    Distrito Federal  0.080238\n",
              "713           Tocantins  Mato Grosso do Sul  0.020359\n",
              "723           Tocantins            Rondônia  0.050781\n",
              "724           Tocantins             Roraima  0.058209\n",
              "725           Tocantins      Santa Catarina  0.099395"
            ]
          },
          "metadata": {
            "tags": []
          },
          "execution_count": 20
        }
      ]
    },
    {
      "cell_type": "markdown",
      "metadata": {
        "id": "lGxPB0zN6k6d"
      },
      "source": [
        "Analisando os dados de algumas dessas cidades podemos ver a semelheança a partir do nível de criminalidade, como exemplificado abaixo:\n",
        "\n",
        "Valores retirados da base de dados\n",
        "\n",
        "`Acre\t271\t1\t11\t285`\n",
        "\n",
        "`Rondônia\t381\t1\t15`\t\n",
        "\n",
        "`Pernambuco\t3355\t28\t101\t3686`\n",
        "\n",
        "`Rio de Janeiro\t3312\t31\t85\t3649`\n",
        "\n",
        "Com esses valores podemos perceber a semelheança entre Acre e Rondônia com niveis baixos de criminalidade se comparado a Rio de Janeiro e Pernambuco que são semelheantes entre si."
      ]
    },
    {
      "cell_type": "markdown",
      "metadata": {
        "id": "vbgaU3zamlhS"
      },
      "source": [
        "##Algoritmos de Clusterização"
      ]
    },
    {
      "cell_type": "markdown",
      "metadata": {
        "id": "Zl7OlssgpRkF"
      },
      "source": [
        "### K-Means"
      ]
    },
    {
      "cell_type": "code",
      "metadata": {
        "colab": {
          "base_uri": "https://localhost:8080/"
        },
        "id": "zyIPLKs5jg0O",
        "outputId": "91abb681-feb6-479e-eab9-cd10371914d6"
      },
      "source": [
        "from sklearn import metrics\n",
        "\n",
        "for k in range(2, 10):\n",
        "\n",
        "  kmeans = KMeans(n_clusters=k)\n",
        "  kmeans.fit(df_crimes_norm[['Homicídio doloso','Lesão corporal seguida de morte','Roubo seguido de morte (latrocínio)', 'Vítimas']])\n",
        "  score_mean = metrics.silhouette_score(df_crimes_norm[['Homicídio doloso','Lesão corporal seguida de morte','Roubo seguido de morte (latrocínio)', 'Vítimas']], kmeans.labels_, metric='euclidean')\n",
        "  print(k, score_mean)\n",
        "\n"
      ],
      "execution_count": null,
      "outputs": [
        {
          "output_type": "stream",
          "text": [
            "2 0.5581280227410746\n",
            "3 0.5487621510114795\n",
            "4 0.4813229808584017\n",
            "5 0.5015846606677051\n",
            "6 0.40989361954037745\n",
            "7 0.3956784185920038\n",
            "8 0.32986502644855814\n",
            "9 0.3420215562724581\n"
          ],
          "name": "stdout"
        }
      ]
    },
    {
      "cell_type": "markdown",
      "metadata": {
        "id": "3__j-ms2mudj"
      },
      "source": [
        "Melhor silhouette é com k = 2"
      ]
    },
    {
      "cell_type": "code",
      "metadata": {
        "id": "cmOX6RskBGXx",
        "colab": {
          "base_uri": "https://localhost:8080/"
        },
        "outputId": "95cddaec-3226-4da7-e664-6d4b466ab36f"
      },
      "source": [
        "kmeans = KMeans(n_clusters=2)\n",
        "kmeans.fit(df_crimes[['Homicídio doloso','Lesão corporal seguida de morte','Roubo seguido de morte (latrocínio)', 'Vítimas']])"
      ],
      "execution_count": null,
      "outputs": [
        {
          "output_type": "execute_result",
          "data": {
            "text/plain": [
              "KMeans(algorithm='auto', copy_x=True, init='k-means++', max_iter=300,\n",
              "       n_clusters=2, n_init=10, n_jobs=None, precompute_distances='auto',\n",
              "       random_state=None, tol=0.0001, verbose=0)"
            ]
          },
          "metadata": {
            "tags": []
          },
          "execution_count": 22
        }
      ]
    },
    {
      "cell_type": "code",
      "metadata": {
        "id": "H1DPCfSDBYEv"
      },
      "source": [
        "clusters = kmeans.labels_.tolist()\n",
        "clusters_dict = { 'UF': list(df_crimes.UF), 'cluster': clusters}\n",
        "dataframe_clusters = pd.DataFrame(clusters_dict, columns = ['cluster','UF'])"
      ],
      "execution_count": null,
      "outputs": []
    },
    {
      "cell_type": "code",
      "metadata": {
        "id": "owLLy2GJJRMB",
        "colab": {
          "base_uri": "https://localhost:8080/",
          "height": 886
        },
        "outputId": "dda4cff4-dcd2-4cff-a233-20621d34e879"
      },
      "source": [
        "dataframe_clusters"
      ],
      "execution_count": null,
      "outputs": [
        {
          "output_type": "execute_result",
          "data": {
            "text/html": [
              "<div>\n",
              "<style scoped>\n",
              "    .dataframe tbody tr th:only-of-type {\n",
              "        vertical-align: middle;\n",
              "    }\n",
              "\n",
              "    .dataframe tbody tr th {\n",
              "        vertical-align: top;\n",
              "    }\n",
              "\n",
              "    .dataframe thead th {\n",
              "        text-align: right;\n",
              "    }\n",
              "</style>\n",
              "<table border=\"1\" class=\"dataframe\">\n",
              "  <thead>\n",
              "    <tr style=\"text-align: right;\">\n",
              "      <th></th>\n",
              "      <th>cluster</th>\n",
              "      <th>UF</th>\n",
              "    </tr>\n",
              "  </thead>\n",
              "  <tbody>\n",
              "    <tr>\n",
              "      <th>0</th>\n",
              "      <td>0</td>\n",
              "      <td>Acre</td>\n",
              "    </tr>\n",
              "    <tr>\n",
              "      <th>1</th>\n",
              "      <td>0</td>\n",
              "      <td>Alagoas</td>\n",
              "    </tr>\n",
              "    <tr>\n",
              "      <th>2</th>\n",
              "      <td>0</td>\n",
              "      <td>Amapá</td>\n",
              "    </tr>\n",
              "    <tr>\n",
              "      <th>3</th>\n",
              "      <td>0</td>\n",
              "      <td>Amazonas</td>\n",
              "    </tr>\n",
              "    <tr>\n",
              "      <th>4</th>\n",
              "      <td>1</td>\n",
              "      <td>Bahia</td>\n",
              "    </tr>\n",
              "    <tr>\n",
              "      <th>5</th>\n",
              "      <td>1</td>\n",
              "      <td>Ceará</td>\n",
              "    </tr>\n",
              "    <tr>\n",
              "      <th>6</th>\n",
              "      <td>0</td>\n",
              "      <td>Distrito Federal</td>\n",
              "    </tr>\n",
              "    <tr>\n",
              "      <th>7</th>\n",
              "      <td>0</td>\n",
              "      <td>Espírito Santo</td>\n",
              "    </tr>\n",
              "    <tr>\n",
              "      <th>8</th>\n",
              "      <td>0</td>\n",
              "      <td>Goiás</td>\n",
              "    </tr>\n",
              "    <tr>\n",
              "      <th>9</th>\n",
              "      <td>0</td>\n",
              "      <td>Maranhão</td>\n",
              "    </tr>\n",
              "    <tr>\n",
              "      <th>10</th>\n",
              "      <td>0</td>\n",
              "      <td>Mato Grosso</td>\n",
              "    </tr>\n",
              "    <tr>\n",
              "      <th>11</th>\n",
              "      <td>0</td>\n",
              "      <td>Mato Grosso do Sul</td>\n",
              "    </tr>\n",
              "    <tr>\n",
              "      <th>12</th>\n",
              "      <td>1</td>\n",
              "      <td>Minas Gerais</td>\n",
              "    </tr>\n",
              "    <tr>\n",
              "      <th>13</th>\n",
              "      <td>0</td>\n",
              "      <td>Paraná</td>\n",
              "    </tr>\n",
              "    <tr>\n",
              "      <th>14</th>\n",
              "      <td>0</td>\n",
              "      <td>Paraíba</td>\n",
              "    </tr>\n",
              "    <tr>\n",
              "      <th>15</th>\n",
              "      <td>0</td>\n",
              "      <td>Pará</td>\n",
              "    </tr>\n",
              "    <tr>\n",
              "      <th>16</th>\n",
              "      <td>1</td>\n",
              "      <td>Pernambuco</td>\n",
              "    </tr>\n",
              "    <tr>\n",
              "      <th>17</th>\n",
              "      <td>0</td>\n",
              "      <td>Piauí</td>\n",
              "    </tr>\n",
              "    <tr>\n",
              "      <th>18</th>\n",
              "      <td>0</td>\n",
              "      <td>Rio Grande do Norte</td>\n",
              "    </tr>\n",
              "    <tr>\n",
              "      <th>19</th>\n",
              "      <td>0</td>\n",
              "      <td>Rio Grande do Sul</td>\n",
              "    </tr>\n",
              "    <tr>\n",
              "      <th>20</th>\n",
              "      <td>1</td>\n",
              "      <td>Rio de Janeiro</td>\n",
              "    </tr>\n",
              "    <tr>\n",
              "      <th>21</th>\n",
              "      <td>0</td>\n",
              "      <td>Rondônia</td>\n",
              "    </tr>\n",
              "    <tr>\n",
              "      <th>22</th>\n",
              "      <td>0</td>\n",
              "      <td>Roraima</td>\n",
              "    </tr>\n",
              "    <tr>\n",
              "      <th>23</th>\n",
              "      <td>0</td>\n",
              "      <td>Santa Catarina</td>\n",
              "    </tr>\n",
              "    <tr>\n",
              "      <th>24</th>\n",
              "      <td>0</td>\n",
              "      <td>Sergipe</td>\n",
              "    </tr>\n",
              "    <tr>\n",
              "      <th>25</th>\n",
              "      <td>1</td>\n",
              "      <td>São Paulo</td>\n",
              "    </tr>\n",
              "    <tr>\n",
              "      <th>26</th>\n",
              "      <td>0</td>\n",
              "      <td>Tocantins</td>\n",
              "    </tr>\n",
              "  </tbody>\n",
              "</table>\n",
              "</div>"
            ],
            "text/plain": [
              "    cluster                   UF\n",
              "0         0                 Acre\n",
              "1         0              Alagoas\n",
              "2         0                Amapá\n",
              "3         0             Amazonas\n",
              "4         1                Bahia\n",
              "5         1                Ceará\n",
              "6         0     Distrito Federal\n",
              "7         0       Espírito Santo\n",
              "8         0                Goiás\n",
              "9         0             Maranhão\n",
              "10        0          Mato Grosso\n",
              "11        0   Mato Grosso do Sul\n",
              "12        1         Minas Gerais\n",
              "13        0               Paraná\n",
              "14        0              Paraíba\n",
              "15        0                 Pará\n",
              "16        1           Pernambuco\n",
              "17        0                Piauí\n",
              "18        0  Rio Grande do Norte\n",
              "19        0    Rio Grande do Sul\n",
              "20        1       Rio de Janeiro\n",
              "21        0             Rondônia\n",
              "22        0              Roraima\n",
              "23        0       Santa Catarina\n",
              "24        0              Sergipe\n",
              "25        1            São Paulo\n",
              "26        0            Tocantins"
            ]
          },
          "metadata": {
            "tags": []
          },
          "execution_count": 24
        }
      ]
    },
    {
      "cell_type": "markdown",
      "metadata": {
        "id": "HJeupsnIqA-L"
      },
      "source": [
        "Analizando as classes formadas e a similaridade vista anteriormente pode-se ver que Acre e Rondônia ficaram no mesmo grupo, assim como Pernambuco e Rio de Janeiro. Dess maneira pode-se concluir que o Cluster 0 são os estados com níveis mais baixos de criminalidade e o 1 os níveis mais altos."
      ]
    },
    {
      "cell_type": "markdown",
      "metadata": {
        "id": "izuawQKrqlV1"
      },
      "source": [
        "### Cluster Hierárquico \n",
        "\n"
      ]
    },
    {
      "cell_type": "code",
      "metadata": {
        "id": "HxpEvFp_O0u7",
        "colab": {
          "base_uri": "https://localhost:8080/",
          "height": 451
        },
        "outputId": "c4eead24-4521-4e60-d798-76ab208942fe"
      },
      "source": [
        "plt.figure(figsize=(10, 7))\n",
        "plt.title(\"Customer Dendrograms\")\n",
        "dend = shc.dendrogram(shc.linkage(df_crimes_norm, method='ward'))"
      ],
      "execution_count": null,
      "outputs": [
        {
          "output_type": "display_data",
          "data": {
            "image/png": "[encoded data removed]",
            "text/plain": [
              "<Figure size 720x504 with 1 Axes>"
            ]
          },
          "metadata": {
            "tags": [],
            "needs_background": "light"
          }
        }
      ]
    },
    {
      "cell_type": "markdown",
      "metadata": {
        "id": "ockPOiS3oSO-"
      },
      "source": [
        "Analisando o dedograma, pode-se concluir que o melhor número de cluster é 2."
      ]
    },
    {
      "cell_type": "code",
      "metadata": {
        "id": "8kqaKMRgXtaI",
        "colab": {
          "base_uri": "https://localhost:8080/"
        },
        "outputId": "eb3b52c6-a21c-47c9-8040-3374427258a6"
      },
      "source": [
        "agg_cluster = AgglomerativeClustering(affinity='euclidean', linkage='ward')\n",
        "agg_cluster.fit(df_crimes_norm[['Homicídio doloso','Lesão corporal seguida de morte','Roubo seguido de morte (latrocínio)', 'Vítimas']])"
      ],
      "execution_count": null,
      "outputs": [
        {
          "output_type": "execute_result",
          "data": {
            "text/plain": [
              "AgglomerativeClustering(affinity='euclidean', compute_full_tree='auto',\n",
              "                        connectivity=None, distance_threshold=None,\n",
              "                        linkage='ward', memory=None, n_clusters=2)"
            ]
          },
          "metadata": {
            "tags": []
          },
          "execution_count": 26
        }
      ]
    },
    {
      "cell_type": "code",
      "metadata": {
        "id": "NSgAkwhRq1PT"
      },
      "source": [
        "clusters_h = agg_cluster.labels_.tolist()\n",
        "clusters_dict_h = { 'UF': list(df_crimes.UF), 'cluster': clusters_h}\n",
        "dataframe_clusters_h = pd.DataFrame(clusters_dict_h, columns = ['cluster','UF'])\n"
      ],
      "execution_count": null,
      "outputs": []
    },
    {
      "cell_type": "code",
      "metadata": {
        "id": "Ujs-4iK2rG5Z",
        "colab": {
          "base_uri": "https://localhost:8080/",
          "height": 886
        },
        "outputId": "e33cd7e9-4228-47bf-ffdc-1af3f5f880b3"
      },
      "source": [
        "dataframe_clusters_h"
      ],
      "execution_count": null,
      "outputs": [
        {
          "output_type": "execute_result",
          "data": {
            "text/html": [
              "<div>\n",
              "<style scoped>\n",
              "    .dataframe tbody tr th:only-of-type {\n",
              "        vertical-align: middle;\n",
              "    }\n",
              "\n",
              "    .dataframe tbody tr th {\n",
              "        vertical-align: top;\n",
              "    }\n",
              "\n",
              "    .dataframe thead th {\n",
              "        text-align: right;\n",
              "    }\n",
              "</style>\n",
              "<table border=\"1\" class=\"dataframe\">\n",
              "  <thead>\n",
              "    <tr style=\"text-align: right;\">\n",
              "      <th></th>\n",
              "      <th>cluster</th>\n",
              "      <th>UF</th>\n",
              "    </tr>\n",
              "  </thead>\n",
              "  <tbody>\n",
              "    <tr>\n",
              "      <th>0</th>\n",
              "      <td>1</td>\n",
              "      <td>Acre</td>\n",
              "    </tr>\n",
              "    <tr>\n",
              "      <th>1</th>\n",
              "      <td>1</td>\n",
              "      <td>Alagoas</td>\n",
              "    </tr>\n",
              "    <tr>\n",
              "      <th>2</th>\n",
              "      <td>1</td>\n",
              "      <td>Amapá</td>\n",
              "    </tr>\n",
              "    <tr>\n",
              "      <th>3</th>\n",
              "      <td>1</td>\n",
              "      <td>Amazonas</td>\n",
              "    </tr>\n",
              "    <tr>\n",
              "      <th>4</th>\n",
              "      <td>0</td>\n",
              "      <td>Bahia</td>\n",
              "    </tr>\n",
              "    <tr>\n",
              "      <th>5</th>\n",
              "      <td>0</td>\n",
              "      <td>Ceará</td>\n",
              "    </tr>\n",
              "    <tr>\n",
              "      <th>6</th>\n",
              "      <td>1</td>\n",
              "      <td>Distrito Federal</td>\n",
              "    </tr>\n",
              "    <tr>\n",
              "      <th>7</th>\n",
              "      <td>1</td>\n",
              "      <td>Espírito Santo</td>\n",
              "    </tr>\n",
              "    <tr>\n",
              "      <th>8</th>\n",
              "      <td>1</td>\n",
              "      <td>Goiás</td>\n",
              "    </tr>\n",
              "    <tr>\n",
              "      <th>9</th>\n",
              "      <td>0</td>\n",
              "      <td>Maranhão</td>\n",
              "    </tr>\n",
              "    <tr>\n",
              "      <th>10</th>\n",
              "      <td>1</td>\n",
              "      <td>Mato Grosso</td>\n",
              "    </tr>\n",
              "    <tr>\n",
              "      <th>11</th>\n",
              "      <td>1</td>\n",
              "      <td>Mato Grosso do Sul</td>\n",
              "    </tr>\n",
              "    <tr>\n",
              "      <th>12</th>\n",
              "      <td>0</td>\n",
              "      <td>Minas Gerais</td>\n",
              "    </tr>\n",
              "    <tr>\n",
              "      <th>13</th>\n",
              "      <td>0</td>\n",
              "      <td>Paraná</td>\n",
              "    </tr>\n",
              "    <tr>\n",
              "      <th>14</th>\n",
              "      <td>1</td>\n",
              "      <td>Paraíba</td>\n",
              "    </tr>\n",
              "    <tr>\n",
              "      <th>15</th>\n",
              "      <td>0</td>\n",
              "      <td>Pará</td>\n",
              "    </tr>\n",
              "    <tr>\n",
              "      <th>16</th>\n",
              "      <td>0</td>\n",
              "      <td>Pernambuco</td>\n",
              "    </tr>\n",
              "    <tr>\n",
              "      <th>17</th>\n",
              "      <td>1</td>\n",
              "      <td>Piauí</td>\n",
              "    </tr>\n",
              "    <tr>\n",
              "      <th>18</th>\n",
              "      <td>0</td>\n",
              "      <td>Rio Grande do Norte</td>\n",
              "    </tr>\n",
              "    <tr>\n",
              "      <th>19</th>\n",
              "      <td>0</td>\n",
              "      <td>Rio Grande do Sul</td>\n",
              "    </tr>\n",
              "    <tr>\n",
              "      <th>20</th>\n",
              "      <td>0</td>\n",
              "      <td>Rio de Janeiro</td>\n",
              "    </tr>\n",
              "    <tr>\n",
              "      <th>21</th>\n",
              "      <td>1</td>\n",
              "      <td>Rondônia</td>\n",
              "    </tr>\n",
              "    <tr>\n",
              "      <th>22</th>\n",
              "      <td>1</td>\n",
              "      <td>Roraima</td>\n",
              "    </tr>\n",
              "    <tr>\n",
              "      <th>23</th>\n",
              "      <td>1</td>\n",
              "      <td>Santa Catarina</td>\n",
              "    </tr>\n",
              "    <tr>\n",
              "      <th>24</th>\n",
              "      <td>1</td>\n",
              "      <td>Sergipe</td>\n",
              "    </tr>\n",
              "    <tr>\n",
              "      <th>25</th>\n",
              "      <td>0</td>\n",
              "      <td>São Paulo</td>\n",
              "    </tr>\n",
              "    <tr>\n",
              "      <th>26</th>\n",
              "      <td>1</td>\n",
              "      <td>Tocantins</td>\n",
              "    </tr>\n",
              "  </tbody>\n",
              "</table>\n",
              "</div>"
            ],
            "text/plain": [
              "    cluster                   UF\n",
              "0         1                 Acre\n",
              "1         1              Alagoas\n",
              "2         1                Amapá\n",
              "3         1             Amazonas\n",
              "4         0                Bahia\n",
              "5         0                Ceará\n",
              "6         1     Distrito Federal\n",
              "7         1       Espírito Santo\n",
              "8         1                Goiás\n",
              "9         0             Maranhão\n",
              "10        1          Mato Grosso\n",
              "11        1   Mato Grosso do Sul\n",
              "12        0         Minas Gerais\n",
              "13        0               Paraná\n",
              "14        1              Paraíba\n",
              "15        0                 Pará\n",
              "16        0           Pernambuco\n",
              "17        1                Piauí\n",
              "18        0  Rio Grande do Norte\n",
              "19        0    Rio Grande do Sul\n",
              "20        0       Rio de Janeiro\n",
              "21        1             Rondônia\n",
              "22        1              Roraima\n",
              "23        1       Santa Catarina\n",
              "24        1              Sergipe\n",
              "25        0            São Paulo\n",
              "26        1            Tocantins"
            ]
          },
          "metadata": {
            "tags": []
          },
          "execution_count": 28
        }
      ]
    },
    {
      "cell_type": "markdown",
      "metadata": {
        "id": "7ZMcUXQwtFdh"
      },
      "source": [
        "Já nesse resultado apenas o valor dos cluters que foram trocados, o 0 são os estados com níveis mais altos de criminalidade e 1 os mais baixos."
      ]
    },
    {
      "cell_type": "code",
      "metadata": {
        "id": "PF8zEeLUvnAS",
        "colab": {
          "base_uri": "https://localhost:8080/"
        },
        "outputId": "8ee824eb-ad67-42ae-975c-ab057b1cb23f"
      },
      "source": [
        "metrics.silhouette_score(df_crimes_norm, agg_cluster.labels_, metric='euclidean')"
      ],
      "execution_count": null,
      "outputs": [
        {
          "output_type": "execute_result",
          "data": {
            "text/plain": [
              "0.540018372610135"
            ]
          },
          "metadata": {
            "tags": []
          },
          "execution_count": 29
        }
      ]
    },
    {
      "cell_type": "code",
      "metadata": {
        "id": "h7JkMW_evX1I",
        "colab": {
          "base_uri": "https://localhost:8080/"
        },
        "outputId": "69894cd8-5cbc-4572-aca6-bd4c2120d22e"
      },
      "source": [
        "metrics.silhouette_score(df_crimes_norm, kmeans.labels_, metric='euclidean')"
      ],
      "execution_count": null,
      "outputs": [
        {
          "output_type": "execute_result",
          "data": {
            "text/plain": [
              "0.5475818492368419"
            ]
          },
          "metadata": {
            "tags": []
          },
          "execution_count": 30
        }
      ]
    },
    {
      "cell_type": "markdown",
      "metadata": {
        "id": "-EL6lL1cwVpo"
      },
      "source": [
        "Calculando o silhouette dos dois algoritmos pode-se concluir que o algoritmo K-means tem o melhor score."
      ]
    },
    {
      "cell_type": "code",
      "metadata": {
        "id": "P6oGGEt1tZ3I"
      },
      "source": [
        "#Salvando base clusterizada em arquivo csv\n",
        "dataframe_clusters.to_csv('crimes_clusters.csv')"
      ],
      "execution_count": null,
      "outputs": []
    }
  ]
}